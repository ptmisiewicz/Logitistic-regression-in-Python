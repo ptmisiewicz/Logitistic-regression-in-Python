{
 "cells": [
  {
   "cell_type": "code",
   "execution_count": 54,
   "metadata": {},
   "outputs": [],
   "source": [
    "import pandas as pd\n",
    "import numpy as np\n",
    "from sklearn.linear_model import LogisticRegression\n",
    "from scipy.fftpack import fft, ifft\n",
    "import matplotlib.pyplot as plt\n",
    "from sklearn import linear_model\n",
    "from sklearn.metrics import precision_recall_curve\n",
    "from sklearn.metrics import confusion_matrix\n",
    "import warnings\n",
    "warnings.filterwarnings(\"ignore\")\n",
    "from sklearn import metrics\n",
    "from sklearn.model_selection import ParameterGrid\n",
    "from sklearn.linear_model import SGDClassifier\n",
    "from sklearn.metrics import roc_auc_score\n",
    "import parfit.parfit as pf\n",
    "from sklearn.metrics import mean_squared_error"
   ]
  },
  {
   "cell_type": "code",
   "execution_count": 46,
   "metadata": {},
   "outputs": [],
   "source": [
    "clf =  linear_model.SGDClassifier(loss = \"log\", penalty = 'l2', alpha = 1e-1)"
   ]
  },
  {
   "cell_type": "code",
   "execution_count": 49,
   "metadata": {},
   "outputs": [
    {
     "name": "stdout",
     "output_type": "stream",
     "text": [
      "1.0\n",
      "0.7475142420086507\n",
      "1.0\n",
      "0.9386163167729171\n",
      "1.0\n",
      "1.0\n",
      "1.0\n",
      "0.9657097912983634\n",
      "1.0\n",
      "0.9356162307292569\n",
      "1.0\n",
      "1.0\n",
      "0.998038704192149\n",
      "0.9990813943261441\n",
      "0.9684939033657162\n",
      "1.0\n",
      "1.0\n",
      "0.9788173858416114\n",
      "0.9679542523967035\n",
      "1.0\n",
      "1.0\n",
      "0.9747264568913047\n",
      "1.0\n",
      "1.0\n",
      "0.978080437406103\n",
      "0.9576165455025313\n",
      "1.0\n",
      "0.9832954580829935\n",
      "1.0\n",
      "1.0\n",
      "1.0\n"
     ]
    }
   ],
   "source": [
    "for i in range (1,40):\n",
    "    data = pd.read_csv(r\"C:\\Users\\Piotrek\\Documents\\projektIO\\Dane\\Dane\\Nowy Folder\\dane\\l{}.csv\".format(i),header = None) \n",
    "    datalabel = pd.read_csv(r\"C:\\Users\\Piotrek\\Documents\\projektIO\\Dane\\Dane\\Nowy Folder\\labele\\{}_label.csv\".format(i),header = None)\n",
    "    Y = datalabel.iloc[:,[0]]\n",
    "    x = data.iloc[:,[19,20,21,22,24,25,33,38]]\n",
    "    Y = Y.replace(0.5, 1)\n",
    "    clf.partial_fit(x, Y.values.ravel(), classes=[0, 1])"
   ]
  },
  {
   "cell_type": "code",
   "execution_count": 55,
   "metadata": {},
   "outputs": [],
   "source": [
    "sum1 = 0\n",
    "sum2 = 0\n",
    "sum3 = 0\n",
    "sum4 = 0\n",
    "for i in range (1,17):\n",
    "    datat = pd.read_csv(r\"C:\\Users\\Piotrek\\Documents\\projektIO\\Dane\\Dane\\danetest\\{}.csv\".format(i),header = None) \n",
    "    datalabelt = pd.read_csv(r\"C:\\Users\\Piotrek\\Documents\\projektIO\\Dane\\Dane\\danetest\\labels\\{}_label.csv\".format(i),header = None)\n",
    "    Yt = datalabelt.iloc[:,[0]]\n",
    "    xt = datat.iloc[:,[19,20,21,22,24,25,33,38]]\n",
    "    Yt = Yt.replace(0.5, 1)\n",
    "    clf.score(xt,Yt.values.ravel())\n",
    "    y_pred = clf.predict(xt)\n",
    "    sum1 = sum1 + metrics.accuracy_score(Yt, y_pred)\n",
    "    sum2 = sum2 + metrics.recall_score(Yt, y_pred)\n",
    "    sum3 = sum3 + metrics.precision_score(Yt, y_pred)\n",
    "    sum4 = sum4 + mean_squared_error(Yt, y_pred)"
   ]
  },
  {
   "cell_type": "code",
   "execution_count": 230,
   "metadata": {},
   "outputs": [
    {
     "data": {
      "text/plain": [
       "array([[-1.29043233e+03, -1.92596886e+00, -3.16159715e+03,\n",
       "        -1.07679133e-02,  4.80477805e+03, -1.92697089e+00,\n",
       "        -3.40026949e+04, -2.66949521e+04]])"
      ]
     },
     "execution_count": 230,
     "metadata": {},
     "output_type": "execute_result"
    }
   ],
   "source": [
    "clf.coef_"
   ]
  },
  {
   "cell_type": "code",
   "execution_count": 231,
   "metadata": {},
   "outputs": [
    {
     "data": {
      "text/plain": [
       "array([-148.92790738])"
      ]
     },
     "execution_count": 231,
     "metadata": {},
     "output_type": "execute_result"
    }
   ],
   "source": [
    "clf.intercept_"
   ]
  },
  {
   "cell_type": "code",
   "execution_count": 57,
   "metadata": {},
   "outputs": [
    {
     "data": {
      "text/plain": [
       "0.8875985821989939"
      ]
     },
     "execution_count": 57,
     "metadata": {},
     "output_type": "execute_result"
    }
   ],
   "source": [
    "accuracy = sum1 / 17\n",
    "accuracy"
   ]
  },
  {
   "cell_type": "code",
   "execution_count": 58,
   "metadata": {},
   "outputs": [
    {
     "data": {
      "text/plain": [
       "0.0"
      ]
     },
     "execution_count": 58,
     "metadata": {},
     "output_type": "execute_result"
    }
   ],
   "source": [
    "recall = sum2 / 17\n",
    "recall"
   ]
  },
  {
   "cell_type": "code",
   "execution_count": 43,
   "metadata": {},
   "outputs": [
    {
     "data": {
      "text/plain": [
       "array([[402292,      0],\n",
       "       [478906,      0]], dtype=int64)"
      ]
     },
     "execution_count": 43,
     "metadata": {},
     "output_type": "execute_result"
    }
   ],
   "source": [
    "conf = confusion_matrix(Yt, y_pred)\n",
    "conf"
   ]
  },
  {
   "cell_type": "code",
   "execution_count": 59,
   "metadata": {},
   "outputs": [
    {
     "data": {
      "text/plain": [
       "0.0"
      ]
     },
     "execution_count": 59,
     "metadata": {},
     "output_type": "execute_result"
    }
   ],
   "source": [
    "precision = sum3 / 17\n",
    "precision"
   ]
  },
  {
   "cell_type": "code",
   "execution_count": 60,
   "metadata": {},
   "outputs": [
    {
     "data": {
      "text/plain": [
       "0.02149232689191522"
      ]
     },
     "execution_count": 60,
     "metadata": {},
     "output_type": "execute_result"
    }
   ],
   "source": [
    "mse = sum4 / 17\n",
    "mse"
   ]
  }
 ],
 "metadata": {
  "kernelspec": {
   "display_name": "Python 3",
   "language": "python",
   "name": "python3"
  },
  "language_info": {
   "codemirror_mode": {
    "name": "ipython",
    "version": 3
   },
   "file_extension": ".py",
   "mimetype": "text/x-python",
   "name": "python",
   "nbconvert_exporter": "python",
   "pygments_lexer": "ipython3",
   "version": "3.7.1"
  }
 },
 "nbformat": 4,
 "nbformat_minor": 2
}
